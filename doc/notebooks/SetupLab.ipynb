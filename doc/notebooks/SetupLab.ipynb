{
 "cells": [
  {
   "cell_type": "code",
   "execution_count": 0,
   "metadata": {
    "application/vnd.databricks.v1+cell": {
     "cellMetadata": {},
     "inputWidgets": {},
     "nuid": "5cb117e6-e712-494e-be9c-0f854ea1bb20",
     "showTitle": false,
     "title": ""
    }
   },
   "outputs": [],
   "source": [
    "%run ../../includes/CloudLakehouseLabsContext"
   ]
  },
  {
   "cell_type": "code",
   "execution_count": 0,
   "metadata": {
    "application/vnd.databricks.v1+cell": {
     "cellMetadata": {},
     "inputWidgets": {},
     "nuid": "84c7d475-0450-4d34-aaad-e55598170452",
     "showTitle": false,
     "title": ""
    }
   },
   "outputs": [],
   "source": [
    "class RetailCloudLakehouseLabsContext(CloudLakehouseLabsContext):\n",
    "  def __init__(self):\n",
    "    super().__init__('retail')\n",
    "    self.__databaseForDLT = self.schema() + \"_dlt\"\n",
    "    self.__rawDataDirectory = \"/cloud_lakehouse_labs/retail/raw\"\n",
    "    self.__deltaTablesDirectory = self.workingDirectory() + \"/delta_tables\"\n",
    "    self.__dltPipelinesOutputDataDirectory = self.workingDirectory() + \"/dlt_pipelines\"\n",
    "\n",
    "  def dropAllDataAndSchema(self):\n",
    "    super().dropAllDataAndSchema()\n",
    "    try:\n",
    "      spark.sql('DROP DATABASE IF EXISTS hive_metastore.' + self.__databaseForDLT + ' CASCADE')\n",
    "    except Exception as e:\n",
    "      pass\n",
    "\n",
    "\n",
    "  def databaseForDLT(self): return self.__databaseForDLT\n",
    "  def rawDataDirectory(self): return self.__rawDataDirectory\n",
    "  def deltaTablesDirectory(self): return self.__deltaTablesDirectory\n",
    "  def dltPipelinesOutputDataDirectory(self): return self.__dltPipelinesOutputDataDirectory\n",
    "  def modelNameForUser(self): return \"retail_churn_\" + self.userId()"
   ]
  },
  {
   "cell_type": "code",
   "execution_count": 0,
   "metadata": {
    "application/vnd.databricks.v1+cell": {
     "cellMetadata": {},
     "inputWidgets": {},
     "nuid": "9c654648-4792-4b6c-beb8-34c56fb5b618",
     "showTitle": false,
     "title": ""
    }
   },
   "outputs": [],
   "source": [
    "labContext = RetailCloudLakehouseLabsContext()\n",
    "databaseForDLT = labContext.databaseForDLT()\n",
    "rawDataDirectory = labContext.rawDataDirectory()\n",
    "deltaTablesDirectory = labContext.deltaTablesDirectory()\n",
    "dltPipelinesOutputDataDirectory = labContext.dltPipelinesOutputDataDirectory()\n",
    "modelName = labContext.modelNameForUser()"
   ]
  }
 ],
 "metadata": {
  "application/vnd.databricks.v1+notebook": {
   "dashboards": [],
   "language": "python",
   "notebookMetadata": {
    "pythonIndentUnit": 4
   },
   "notebookName": "SetupLab",
   "widgets": {}
  }
 },
 "nbformat": 4,
 "nbformat_minor": 0
}
