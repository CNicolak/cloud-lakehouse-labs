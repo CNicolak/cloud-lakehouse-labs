{
 "cells": [
  {
   "cell_type": "code",
   "execution_count": 0,
   "metadata": {
    "application/vnd.databricks.v1+cell": {
     "cellMetadata": {},
     "inputWidgets": {},
     "nuid": "fe300bd7-78cc-44aa-a35c-7b5123f02468",
     "showTitle": false,
     "title": ""
    }
   },
   "outputs": [],
   "source": [
    "# The required imports that define the @dlt decorator\n",
    "import dlt\n",
    "from pyspark.sql import functions as F\n",
    "\n",
    "# The path to the blob storage with the raw data\n",
    "rawDataDirectory = \"/cloud_lakehouse_labs/retail/raw\"\n",
    "eventsRawDataDir = rawDataDirectory + \"/events\"\n",
    "ordersRawDataDir = rawDataDirectory + \"/orders\"\n",
    "usersRawDataDir = rawDataDirectory + \"/users\""
   ]
  },
  {
   "cell_type": "markdown",
   "metadata": {
    "application/vnd.databricks.v1+cell": {
     "cellMetadata": {},
     "inputWidgets": {},
     "nuid": "8d74b66b-6ae1-4a24-9b73-0c66cbfd5e0b",
     "showTitle": false,
     "title": ""
    }
   },
   "source": [
    "### 1/ Loading our data using Databricks Autoloader (cloud_files)\n",
    "<div style=\"float:right\">\n",
    "  <img width=\"500px\" src=\"https://github.com/QuentinAmbard/databricks-demo/raw/main/retail/resources/images/lakehouse-retail/lakehouse-retail-churn-de-small-1.png\"/>\n",
    "</div>\n",
    "  \n",
    "Autoloader allow us to efficiently ingest millions of files from a cloud storage, and support efficient schema inference and evolution at scale.\n",
    "\n",
    "Let's use it to our pipeline and ingest the raw JSON & CSV data being delivered in our blob cloud storage. "
   ]
  },
  {
   "cell_type": "code",
   "execution_count": 0,
   "metadata": {
    "application/vnd.databricks.v1+cell": {
     "cellMetadata": {},
     "inputWidgets": {},
     "nuid": "f0ab7b2b-59d4-4bef-8807-92472d3be45d",
     "showTitle": true,
     "title": "Ingest raw app events stream in incremental mode"
    }
   },
   "outputs": [],
   "source": [
    "@dlt.create_table(comment=\"Application events and sessions\")\n",
    "@dlt.expect(\"App events correct schema\", \"_rescued_data IS NULL\")\n",
    "def churn_app_events():\n",
    "  return (\n",
    "    spark.readStream.format(\"cloudFiles\")\n",
    "      .option(\"cloudFiles.format\", \"csv\")\n",
    "      .option(\"cloudFiles.inferColumnTypes\", \"true\")\n",
    "      .load(eventsRawDataDir))"
   ]
  },
  {
   "cell_type": "code",
   "execution_count": 0,
   "metadata": {
    "application/vnd.databricks.v1+cell": {
     "cellMetadata": {},
     "inputWidgets": {},
     "nuid": "6500e5af-e732-4026-a877-63e851bdee11",
     "showTitle": true,
     "title": "Ingest raw orders from ERP"
    }
   },
   "outputs": [],
   "source": [
    "@dlt.create_table(comment=\"Spending score from raw data\")\n",
    "@dlt.expect(\"Orders correct schema\", \"_rescued_data IS NULL\")\n",
    "def churn_orders_bronze():\n",
    "  return (\n",
    "    spark.readStream.format(\"cloudFiles\")\n",
    "      .option(\"cloudFiles.format\", \"json\")\n",
    "      .option(\"cloudFiles.inferColumnTypes\", \"true\")\n",
    "      .load(ordersRawDataDir))"
   ]
  },
  {
   "cell_type": "code",
   "execution_count": 0,
   "metadata": {
    "application/vnd.databricks.v1+cell": {
     "cellMetadata": {},
     "inputWidgets": {},
     "nuid": "383737d3-faa2-422f-8b49-a889b61aa39b",
     "showTitle": true,
     "title": "Ingest raw user data"
    }
   },
   "outputs": [],
   "source": [
    "@dlt.create_table(comment=\"Raw user data coming from json files ingested in incremental with Auto Loader to support schema inference and evolution\")\n",
    "@dlt.expect(\"Users correct schema\", \"_rescued_data IS NULL\")\n",
    "def churn_users_bronze():\n",
    "  return (\n",
    "    spark.readStream.format(\"cloudFiles\")\n",
    "      .option(\"cloudFiles.format\", \"json\")\n",
    "      .option(\"cloudFiles.inferColumnTypes\", \"true\")\n",
    "      .load(usersRawDataDir))"
   ]
  },
  {
   "cell_type": "markdown",
   "metadata": {
    "application/vnd.databricks.v1+cell": {
     "cellMetadata": {},
     "inputWidgets": {},
     "nuid": "97920042-c5a4-44d1-87c6-fe4bf0759f37",
     "showTitle": false,
     "title": ""
    }
   },
   "source": [
    "### 2/ Enforce quality and materialize our tables for Data Analysts\n",
    "<div style=\"float:right\">\n",
    "  <img width=\"500px\" src=\"https://github.com/QuentinAmbard/databricks-demo/raw/main/retail/resources/images/lakehouse-retail/lakehouse-retail-churn-de-small-2.png\"/>\n",
    "</div>\n",
    "\n",
    "The next layer often call silver is consuming **incremental** data from the bronze one, and cleaning up some information.\n",
    "\n",
    "We're also adding an [expectation](https://docs.databricks.com/workflows/delta-live-tables/delta-live-tables-expectations.html) on different field to enforce and track our Data Quality. This will ensure that our dashboard are relevant and easily spot potential errors due to data anomaly.\n",
    "\n",
    "These tables are clean and ready to be used by the BI team!"
   ]
  },
  {
   "cell_type": "code",
   "execution_count": 0,
   "metadata": {
    "application/vnd.databricks.v1+cell": {
     "cellMetadata": {},
     "inputWidgets": {},
     "nuid": "86a1a1dc-ffa1-465d-a9a1-0b093f2013ba",
     "showTitle": true,
     "title": "Clean and anonymise User data"
    }
   },
   "outputs": [],
   "source": [
    "@dlt.create_table(comment=\"User data cleaned and anonymized for analysis.\")\n",
    "@dlt.expect_or_drop(\"user_valid_id\", \"user_id IS NOT NULL\")\n",
    "def churn_users():\n",
    "  return (dlt\n",
    "          .read_stream(\"churn_users_bronze\")\n",
    "          .select(F.col(\"id\").alias(\"user_id\"),\n",
    "                  F.sha1(F.col(\"email\")).alias(\"email\"), \n",
    "                  F.to_timestamp(F.col(\"creation_date\"), \"MM-dd-yyyy HH:mm:ss\").alias(\"creation_date\"), \n",
    "                  F.to_timestamp(F.col(\"last_activity_date\"), \"MM-dd-yyyy HH:mm:ss\").alias(\"last_activity_date\"), \n",
    "                  F.initcap(F.col(\"firstname\")).alias(\"firstname\"), \n",
    "                  F.initcap(F.col(\"lastname\")).alias(\"lastname\"), \n",
    "                  F.col(\"address\"), \n",
    "                  F.col(\"channel\"), \n",
    "                  F.col(\"country\"),\n",
    "                  F.col(\"gender\").cast(\"int\").alias(\"gender\"),\n",
    "                  F.col(\"age_group\").cast(\"int\").alias(\"age_group\"), \n",
    "                  F.col(\"churn\").cast(\"int\").alias(\"churn\")))"
   ]
  },
  {
   "cell_type": "code",
   "execution_count": 0,
   "metadata": {
    "application/vnd.databricks.v1+cell": {
     "cellMetadata": {},
     "inputWidgets": {},
     "nuid": "4ceb7738-30cd-4c74-ac3f-3cc621695e28",
     "showTitle": true,
     "title": "Clean orders"
    }
   },
   "outputs": [],
   "source": [
    "@dlt.create_table(comment=\"Order data cleaned and anonymized for analysis.\")\n",
    "@dlt.expect_or_drop(\"order_valid_id\", \"order_id IS NOT NULL\")\n",
    "@dlt.expect_or_drop(\"order_valid_user_id\", \"user_id IS NOT NULL\")\n",
    "def churn_orders():\n",
    "  return (dlt\n",
    "          .read_stream(\"churn_orders_bronze\")\n",
    "          .select(F.col(\"amount\").cast(\"int\").alias(\"amount\"),\n",
    "                  F.col(\"id\").alias(\"order_id\"),\n",
    "                  F.col(\"user_id\"),\n",
    "                  F.col(\"item_count\").cast(\"int\").alias(\"item_count\"),\n",
    "                  F.to_timestamp(F.col(\"transaction_date\"), \"MM-dd-yyyy HH:mm:ss\").alias(\"creation_date\"))\n",
    "         )"
   ]
  },
  {
   "cell_type": "markdown",
   "metadata": {
    "application/vnd.databricks.v1+cell": {
     "cellMetadata": {},
     "inputWidgets": {},
     "nuid": "d37b84d6-00be-4c20-ba0b-6f62eb98ead1",
     "showTitle": false,
     "title": ""
    }
   },
   "source": [
    "### 3/ Aggregate and join data to create our ML features\n",
    "<div style=\"float:right\">\n",
    "  <img width=\"500px\" src=\"https://github.com/QuentinAmbard/databricks-demo/raw/main/retail/resources/images/lakehouse-retail/lakehouse-retail-churn-de-small-3.png\"/>\n",
    "</div>\n",
    "\n",
    "We're now ready to create the features required for our Churn prediction.\n",
    "\n",
    "We need to enrich our user dataset with extra information which our model will use to help predicting churn, sucj as:\n",
    "\n",
    "* last command date\n",
    "* number of item bought\n",
    "* number of actions in our website\n",
    "* device used (ios/iphone)\n",
    "* ..."
   ]
  },
  {
   "cell_type": "code",
   "execution_count": 0,
   "metadata": {
    "application/vnd.databricks.v1+cell": {
     "cellMetadata": {},
     "inputWidgets": {},
     "nuid": "726e1f4c-5206-4182-b832-c1d6b5d77fec",
     "showTitle": true,
     "title": "Create the feature table"
    }
   },
   "outputs": [],
   "source": [
    "@dlt.create_table(comment=\"Final user table with all information for Analysis / ML\")\n",
    "def churn_features():\n",
    "  churn_app_events_stats_df = (dlt\n",
    "          .read(\"churn_app_events\")\n",
    "          .groupby(\"user_id\")\n",
    "          .agg(F.first(\"platform\").alias(\"platform\"),\n",
    "               F.count('*').alias(\"event_count\"),\n",
    "               F.count_distinct(\"session_id\").alias(\"session_count\"),\n",
    "               F.max(F.to_timestamp(\"date\", \"MM-dd-yyyy HH:mm:ss\")).alias(\"last_event\"))\n",
    "                              )\n",
    "  \n",
    "  churn_orders_stats_df = (dlt\n",
    "          .read(\"churn_orders\")\n",
    "          .groupby(\"user_id\")\n",
    "          .agg(F.count('*').alias(\"order_count\"),\n",
    "               F.sum(\"amount\").alias(\"total_amount\"),\n",
    "               F.sum(\"item_count\").alias(\"total_item\"),\n",
    "               F.max(\"creation_date\").alias(\"last_transaction\"))\n",
    "         )\n",
    "  \n",
    "  return (dlt\n",
    "          .read(\"churn_users\")\n",
    "          .join(churn_app_events_stats_df, on=\"user_id\")\n",
    "          .join(churn_orders_stats_df, on=\"user_id\")\n",
    "          .withColumn(\"days_since_creation\", F.datediff(F.current_timestamp(), F.col(\"creation_date\")))\n",
    "          .withColumn(\"days_since_last_activity\", F.datediff(F.current_timestamp(), F.col(\"last_activity_date\")))\n",
    "          .withColumn(\"days_last_event\", F.datediff(F.current_timestamp(), F.col(\"last_event\")))\n",
    "         )"
   ]
  }
 ],
 "metadata": {
  "application/vnd.databricks.v1+notebook": {
   "dashboards": [],
   "language": "python",
   "notebookMetadata": {
    "pythonIndentUnit": 4
   },
   "notebookName": "01.2 - Delta Live Tables - Python",
   "widgets": {}
  }
 },
 "nbformat": 4,
 "nbformat_minor": 0
}
